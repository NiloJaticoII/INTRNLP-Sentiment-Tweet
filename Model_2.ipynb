{
 "cells": [
  {
   "cell_type": "markdown",
   "id": "3620e16b",
   "metadata": {},
   "source": [
    "# INTRNLP Twitter"
   ]
  },
  {
   "cell_type": "markdown",
   "id": "db1eea3b",
   "metadata": {},
   "source": [
    "Insert short introduction here."
   ]
  },
  {
   "cell_type": "markdown",
   "id": "4fbe796f",
   "metadata": {},
   "source": [
    "# Import Modules"
   ]
  },
  {
   "cell_type": "code",
   "execution_count": 1,
   "id": "c71c4f86",
   "metadata": {},
   "outputs": [],
   "source": [
    "import numpy as np\n",
    "import pandas as pd\n",
    "import os"
   ]
  },
  {
   "cell_type": "markdown",
   "id": "2fdf5528",
   "metadata": {},
   "source": [
    "# Load Data"
   ]
  },
  {
   "cell_type": "code",
   "execution_count": 2,
   "id": "a9b7872d",
   "metadata": {},
   "outputs": [],
   "source": [
    "def check_data_exists(data):\n",
    "    return os.path.exists(data)"
   ]
  },
  {
   "cell_type": "code",
   "execution_count": 3,
   "id": "a9dc3234",
   "metadata": {},
   "outputs": [],
   "source": [
    "if check_data_exists(\"all_tweets.csv\"):\n",
    "    df = pd.read_csv(\"all_tweets.csv\")\n",
    "    df.drop([\"Unnamed: 0\"], inplace=True, axis=1)\n",
    "else:\n",
    "    for i in range(0, 24):\n",
    "        if i == 0:\n",
    "            df = pd.read_csv(f\"Data/tweets_{i}.csv\")\n",
    "        else:\n",
    "            more_df = pd.read_csv(f\"Data/tweets_{i}.csv\")\n",
    "            df.append(more_df, ignore_index=True)\n",
    "    df.to_csv(\"all_tweets.csv\")"
   ]
  },
  {
   "cell_type": "code",
   "execution_count": 4,
   "id": "4285e967",
   "metadata": {},
   "outputs": [
    {
     "data": {
      "text/html": [
       "<div>\n",
       "<style scoped>\n",
       "    .dataframe tbody tr th:only-of-type {\n",
       "        vertical-align: middle;\n",
       "    }\n",
       "\n",
       "    .dataframe tbody tr th {\n",
       "        vertical-align: top;\n",
       "    }\n",
       "\n",
       "    .dataframe thead th {\n",
       "        text-align: right;\n",
       "    }\n",
       "</style>\n",
       "<table border=\"1\" class=\"dataframe\">\n",
       "  <thead>\n",
       "    <tr style=\"text-align: right;\">\n",
       "      <th></th>\n",
       "      <th>tweet_id</th>\n",
       "      <th>author_id</th>\n",
       "      <th>created_at_utc+8</th>\n",
       "      <th>lang</th>\n",
       "      <th>text</th>\n",
       "    </tr>\n",
       "  </thead>\n",
       "  <tbody>\n",
       "    <tr>\n",
       "      <th>0</th>\n",
       "      <td>1264847297260605441</td>\n",
       "      <td>303106526</td>\n",
       "      <td>2020-05-25 17:14:30</td>\n",
       "      <td>tl</td>\n",
       "      <td>@alphangela bes wag ganyan ang attitude char i...</td>\n",
       "    </tr>\n",
       "    <tr>\n",
       "      <th>1</th>\n",
       "      <td>1264847299030597632</td>\n",
       "      <td>2647675584</td>\n",
       "      <td>2020-05-25 17:14:30</td>\n",
       "      <td>en</td>\n",
       "      <td>Bridgetowne yow</td>\n",
       "    </tr>\n",
       "    <tr>\n",
       "      <th>2</th>\n",
       "      <td>1264847299198414848</td>\n",
       "      <td>1074247547907174401</td>\n",
       "      <td>2020-05-25 17:14:30</td>\n",
       "      <td>tl</td>\n",
       "      <td>@Kookie07Jeon Can't stop laughing tf HAHAHAHAH...</td>\n",
       "    </tr>\n",
       "    <tr>\n",
       "      <th>3</th>\n",
       "      <td>1264847299210928128</td>\n",
       "      <td>1010402467878658048</td>\n",
       "      <td>2020-05-25 17:14:30</td>\n",
       "      <td>tl</td>\n",
       "      <td>@azilhanna09 HAHAHAHHAHAHAHHAAA ML NA LANG</td>\n",
       "    </tr>\n",
       "    <tr>\n",
       "      <th>4</th>\n",
       "      <td>1264847301568159746</td>\n",
       "      <td>947031284177502208</td>\n",
       "      <td>2020-05-25 17:14:31</td>\n",
       "      <td>en</td>\n",
       "      <td>One of my fav🤧♥️\\n#백현 #BAEKHYUN #엑소 #EXO #wear...</td>\n",
       "    </tr>\n",
       "  </tbody>\n",
       "</table>\n",
       "</div>"
      ],
      "text/plain": [
       "              tweet_id            author_id     created_at_utc+8 lang  \\\n",
       "0  1264847297260605441            303106526  2020-05-25 17:14:30   tl   \n",
       "1  1264847299030597632           2647675584  2020-05-25 17:14:30   en   \n",
       "2  1264847299198414848  1074247547907174401  2020-05-25 17:14:30   tl   \n",
       "3  1264847299210928128  1010402467878658048  2020-05-25 17:14:30   tl   \n",
       "4  1264847301568159746   947031284177502208  2020-05-25 17:14:31   en   \n",
       "\n",
       "                                                text  \n",
       "0  @alphangela bes wag ganyan ang attitude char i...  \n",
       "1                                    Bridgetowne yow  \n",
       "2  @Kookie07Jeon Can't stop laughing tf HAHAHAHAH...  \n",
       "3         @azilhanna09 HAHAHAHHAHAHAHHAAA ML NA LANG  \n",
       "4  One of my fav🤧♥️\\n#백현 #BAEKHYUN #엑소 #EXO #wear...  "
      ]
     },
     "execution_count": 4,
     "metadata": {},
     "output_type": "execute_result"
    }
   ],
   "source": [
    "df.head(5)"
   ]
  },
  {
   "cell_type": "markdown",
   "id": "55065ca0",
   "metadata": {},
   "source": [
    "# Preprocessing"
   ]
  },
  {
   "cell_type": "markdown",
   "id": "2ffd5990",
   "metadata": {},
   "source": [
    "Let's check if there are any null values."
   ]
  },
  {
   "cell_type": "code",
   "execution_count": 5,
   "id": "343e7736",
   "metadata": {},
   "outputs": [
    {
     "name": "stdout",
     "output_type": "stream",
     "text": [
      "<class 'pandas.core.frame.DataFrame'>\n",
      "RangeIndex: 250000 entries, 0 to 249999\n",
      "Data columns (total 5 columns):\n",
      " #   Column            Non-Null Count   Dtype \n",
      "---  ------            --------------   ----- \n",
      " 0   tweet_id          250000 non-null  int64 \n",
      " 1   author_id         250000 non-null  int64 \n",
      " 2   created_at_utc+8  250000 non-null  object\n",
      " 3   lang              250000 non-null  object\n",
      " 4   text              250000 non-null  object\n",
      "dtypes: int64(2), object(3)\n",
      "memory usage: 9.5+ MB\n"
     ]
    }
   ],
   "source": [
    "df.info()"
   ]
  },
  {
   "cell_type": "markdown",
   "id": "4d9c2f4d",
   "metadata": {},
   "source": [
    "There are no null values in the corpus. We can start checking the texts. Before that, we will acquire all of the English texts available in the corpus."
   ]
  },
  {
   "cell_type": "code",
   "execution_count": 6,
   "id": "1c44d9fe",
   "metadata": {},
   "outputs": [
    {
     "data": {
      "text/plain": [
       "array(['tl', 'en', 'und', 'et', 'es', 'ko', 'nl', 'tr', 'in', 'hi', 'fi',\n",
       "       'pt', 'de', 'it', 'ca', 'ht', 'pl', 'lt', 'hu', 'sv', 'el', 'cy',\n",
       "       'da', 'fr', 'cs', 'no', 'eu', 'lv', 'ja', 'sl', 'vi', 'is', 'ro',\n",
       "       'ar', 'th', 'zh', 'ur', 'ru', 'iw', 'bn'], dtype=object)"
      ]
     },
     "execution_count": 6,
     "metadata": {},
     "output_type": "execute_result"
    }
   ],
   "source": [
    "df[\"lang\"].unique()"
   ]
  },
  {
   "cell_type": "code",
   "execution_count": 7,
   "id": "b8f0fd53",
   "metadata": {},
   "outputs": [
    {
     "data": {
      "text/html": [
       "<div>\n",
       "<style scoped>\n",
       "    .dataframe tbody tr th:only-of-type {\n",
       "        vertical-align: middle;\n",
       "    }\n",
       "\n",
       "    .dataframe tbody tr th {\n",
       "        vertical-align: top;\n",
       "    }\n",
       "\n",
       "    .dataframe thead th {\n",
       "        text-align: right;\n",
       "    }\n",
       "</style>\n",
       "<table border=\"1\" class=\"dataframe\">\n",
       "  <thead>\n",
       "    <tr style=\"text-align: right;\">\n",
       "      <th></th>\n",
       "      <th>tweet_id</th>\n",
       "      <th>author_id</th>\n",
       "      <th>created_at_utc+8</th>\n",
       "      <th>lang</th>\n",
       "      <th>text</th>\n",
       "    </tr>\n",
       "  </thead>\n",
       "  <tbody>\n",
       "    <tr>\n",
       "      <th>0</th>\n",
       "      <td>1264847299030597632</td>\n",
       "      <td>2647675584</td>\n",
       "      <td>2020-05-25 17:14:30</td>\n",
       "      <td>en</td>\n",
       "      <td>Bridgetowne yow</td>\n",
       "    </tr>\n",
       "    <tr>\n",
       "      <th>1</th>\n",
       "      <td>1264847301568159746</td>\n",
       "      <td>947031284177502208</td>\n",
       "      <td>2020-05-25 17:14:31</td>\n",
       "      <td>en</td>\n",
       "      <td>One of my fav🤧♥️\\n#백현 #BAEKHYUN #엑소 #EXO #wear...</td>\n",
       "    </tr>\n",
       "    <tr>\n",
       "      <th>2</th>\n",
       "      <td>1264847307943473152</td>\n",
       "      <td>569607182</td>\n",
       "      <td>2020-05-25 17:14:32</td>\n",
       "      <td>en</td>\n",
       "      <td>@killakushla Loveyou!!!</td>\n",
       "    </tr>\n",
       "    <tr>\n",
       "      <th>3</th>\n",
       "      <td>1264847328491393024</td>\n",
       "      <td>916702759537090560</td>\n",
       "      <td>2020-05-25 17:14:37</td>\n",
       "      <td>en</td>\n",
       "      <td>byeee imma listen to the b-tracks #Delight</td>\n",
       "    </tr>\n",
       "    <tr>\n",
       "      <th>4</th>\n",
       "      <td>1264847331788066816</td>\n",
       "      <td>1246426505871126530</td>\n",
       "      <td>2020-05-25 17:14:38</td>\n",
       "      <td>en</td>\n",
       "      <td>@gmawowowin 0⃣9⃣3⃣0⃣  3⃣1⃣8⃣  8⃣6⃣8⃣1⃣\\nMARIPO...</td>\n",
       "    </tr>\n",
       "  </tbody>\n",
       "</table>\n",
       "</div>"
      ],
      "text/plain": [
       "              tweet_id            author_id     created_at_utc+8 lang  \\\n",
       "0  1264847299030597632           2647675584  2020-05-25 17:14:30   en   \n",
       "1  1264847301568159746   947031284177502208  2020-05-25 17:14:31   en   \n",
       "2  1264847307943473152            569607182  2020-05-25 17:14:32   en   \n",
       "3  1264847328491393024   916702759537090560  2020-05-25 17:14:37   en   \n",
       "4  1264847331788066816  1246426505871126530  2020-05-25 17:14:38   en   \n",
       "\n",
       "                                                text  \n",
       "0                                    Bridgetowne yow  \n",
       "1  One of my fav🤧♥️\\n#백현 #BAEKHYUN #엑소 #EXO #wear...  \n",
       "2                            @killakushla Loveyou!!!  \n",
       "3         byeee imma listen to the b-tracks #Delight  \n",
       "4  @gmawowowin 0⃣9⃣3⃣0⃣  3⃣1⃣8⃣  8⃣6⃣8⃣1⃣\\nMARIPO...  "
      ]
     },
     "execution_count": 7,
     "metadata": {},
     "output_type": "execute_result"
    }
   ],
   "source": [
    "eng_df = df[df[\"lang\"] == \"en\"]\n",
    "eng_df = eng_df.reset_index()\n",
    "eng_df.drop([\"index\"], inplace=True, axis=1)\n",
    "eng_df.head(5)"
   ]
  },
  {
   "cell_type": "markdown",
   "id": "c52f67b5",
   "metadata": {},
   "source": [
    "Now that we've acquired all of the available English tweets, we need to do some cleaning. First, we need to remove all the usernames found in the text. Those usernames don't play any role in finding sentiment."
   ]
  },
  {
   "cell_type": "code",
   "execution_count": null,
   "id": "929e457d",
   "metadata": {},
   "outputs": [],
   "source": [
    "def remove_text_regex(text, regex):\n",
    "    "
   ]
  }
 ],
 "metadata": {
  "kernelspec": {
   "display_name": "Python 3 (ipykernel)",
   "language": "python",
   "name": "python3"
  },
  "language_info": {
   "codemirror_mode": {
    "name": "ipython",
    "version": 3
   },
   "file_extension": ".py",
   "mimetype": "text/x-python",
   "name": "python",
   "nbconvert_exporter": "python",
   "pygments_lexer": "ipython3",
   "version": "3.9.7"
  }
 },
 "nbformat": 4,
 "nbformat_minor": 5
}
