{
 "cells": [
  {
   "cell_type": "markdown",
   "id": "ce624f49",
   "metadata": {},
   "source": [
    "# Import Modules"
   ]
  },
  {
   "cell_type": "code",
   "execution_count": 1,
   "id": "0cddd5a4",
   "metadata": {},
   "outputs": [],
   "source": [
    "import numpy as np\n",
    "import pandas as pd"
   ]
  },
  {
   "cell_type": "markdown",
   "id": "fb3d7c7a",
   "metadata": {},
   "source": [
    "# Load Dataset"
   ]
  },
  {
   "cell_type": "code",
   "execution_count": 2,
   "id": "d71e5d00",
   "metadata": {},
   "outputs": [],
   "source": [
    "for i in range(0, 24):\n",
    "    if i == 0:\n",
    "        data = pd.read_csv(f'Data/tweets_{i}.csv')\n",
    "        data = data[data['lang'] == 'en']\n",
    "    else:\n",
    "        portion = pd.read_csv(f'Data/tweets_{i}.csv')\n",
    "        portion = portion[portion['lang'] == 'en']\n",
    "        data.append(portion, ignore_index=True)"
   ]
  },
  {
   "cell_type": "code",
   "execution_count": 8,
   "id": "2d6de353",
   "metadata": {
    "scrolled": true
   },
   "outputs": [
    {
     "data": {
      "text/html": [
       "<div>\n",
       "<style scoped>\n",
       "    .dataframe tbody tr th:only-of-type {\n",
       "        vertical-align: middle;\n",
       "    }\n",
       "\n",
       "    .dataframe tbody tr th {\n",
       "        vertical-align: top;\n",
       "    }\n",
       "\n",
       "    .dataframe thead th {\n",
       "        text-align: right;\n",
       "    }\n",
       "</style>\n",
       "<table border=\"1\" class=\"dataframe\">\n",
       "  <thead>\n",
       "    <tr style=\"text-align: right;\">\n",
       "      <th></th>\n",
       "      <th>tweet_id</th>\n",
       "      <th>author_id</th>\n",
       "      <th>created_at_utc+8</th>\n",
       "      <th>lang</th>\n",
       "      <th>text</th>\n",
       "    </tr>\n",
       "  </thead>\n",
       "  <tbody>\n",
       "    <tr>\n",
       "      <th>1</th>\n",
       "      <td>1264847299030597632</td>\n",
       "      <td>2647675584</td>\n",
       "      <td>2020-05-25 17:14:30</td>\n",
       "      <td>en</td>\n",
       "      <td>Bridgetowne yow</td>\n",
       "    </tr>\n",
       "    <tr>\n",
       "      <th>4</th>\n",
       "      <td>1264847301568159746</td>\n",
       "      <td>947031284177502208</td>\n",
       "      <td>2020-05-25 17:14:31</td>\n",
       "      <td>en</td>\n",
       "      <td>One of my fav🤧♥️\\n#백현 #BAEKHYUN #엑소 #EXO #wear...</td>\n",
       "    </tr>\n",
       "    <tr>\n",
       "      <th>8</th>\n",
       "      <td>1264847307943473152</td>\n",
       "      <td>569607182</td>\n",
       "      <td>2020-05-25 17:14:32</td>\n",
       "      <td>en</td>\n",
       "      <td>@killakushla Loveyou!!!</td>\n",
       "    </tr>\n",
       "    <tr>\n",
       "      <th>13</th>\n",
       "      <td>1264847328491393024</td>\n",
       "      <td>916702759537090560</td>\n",
       "      <td>2020-05-25 17:14:37</td>\n",
       "      <td>en</td>\n",
       "      <td>byeee imma listen to the b-tracks #Delight</td>\n",
       "    </tr>\n",
       "    <tr>\n",
       "      <th>14</th>\n",
       "      <td>1264847331788066816</td>\n",
       "      <td>1246426505871126530</td>\n",
       "      <td>2020-05-25 17:14:38</td>\n",
       "      <td>en</td>\n",
       "      <td>@gmawowowin 0⃣9⃣3⃣0⃣  3⃣1⃣8⃣  8⃣6⃣8⃣1⃣\\nMARIPO...</td>\n",
       "    </tr>\n",
       "    <tr>\n",
       "      <th>...</th>\n",
       "      <td>...</td>\n",
       "      <td>...</td>\n",
       "      <td>...</td>\n",
       "      <td>...</td>\n",
       "      <td>...</td>\n",
       "    </tr>\n",
       "    <tr>\n",
       "      <th>296</th>\n",
       "      <td>1264848698976026624</td>\n",
       "      <td>38335884</td>\n",
       "      <td>2020-05-25 17:20:04</td>\n",
       "      <td>en</td>\n",
       "      <td>Oh, right that’s why I have 43 pending app upd...</td>\n",
       "    </tr>\n",
       "    <tr>\n",
       "      <th>297</th>\n",
       "      <td>1264848700968513536</td>\n",
       "      <td>1253178829368987652</td>\n",
       "      <td>2020-05-25 17:20:04</td>\n",
       "      <td>en</td>\n",
       "      <td>#Tutoktowinsawowowin, shopee waiting po,092023...</td>\n",
       "    </tr>\n",
       "    <tr>\n",
       "      <th>307</th>\n",
       "      <td>1264848737764913152</td>\n",
       "      <td>875587784991358978</td>\n",
       "      <td>2020-05-25 17:20:13</td>\n",
       "      <td>en</td>\n",
       "      <td>Aww🥺THANK U!HAHA https://t.co/c4bw1g75ty</td>\n",
       "    </tr>\n",
       "    <tr>\n",
       "      <th>308</th>\n",
       "      <td>1264848740495486976</td>\n",
       "      <td>1080801764696154113</td>\n",
       "      <td>2020-05-25 17:20:14</td>\n",
       "      <td>en</td>\n",
       "      <td>You too💙💙💙 https://t.co/Ad0PvjXYjJ</td>\n",
       "    </tr>\n",
       "    <tr>\n",
       "      <th>311</th>\n",
       "      <td>1264848744299794433</td>\n",
       "      <td>931840914183430146</td>\n",
       "      <td>2020-05-25 17:20:15</td>\n",
       "      <td>en</td>\n",
       "      <td>OMG❤️ Park Shin Hyee❤️ https://t.co/QjMsXRRRDw</td>\n",
       "    </tr>\n",
       "  </tbody>\n",
       "</table>\n",
       "<p>100 rows × 5 columns</p>\n",
       "</div>"
      ],
      "text/plain": [
       "                tweet_id            author_id     created_at_utc+8 lang  \\\n",
       "1    1264847299030597632           2647675584  2020-05-25 17:14:30   en   \n",
       "4    1264847301568159746   947031284177502208  2020-05-25 17:14:31   en   \n",
       "8    1264847307943473152            569607182  2020-05-25 17:14:32   en   \n",
       "13   1264847328491393024   916702759537090560  2020-05-25 17:14:37   en   \n",
       "14   1264847331788066816  1246426505871126530  2020-05-25 17:14:38   en   \n",
       "..                   ...                  ...                  ...  ...   \n",
       "296  1264848698976026624             38335884  2020-05-25 17:20:04   en   \n",
       "297  1264848700968513536  1253178829368987652  2020-05-25 17:20:04   en   \n",
       "307  1264848737764913152   875587784991358978  2020-05-25 17:20:13   en   \n",
       "308  1264848740495486976  1080801764696154113  2020-05-25 17:20:14   en   \n",
       "311  1264848744299794433   931840914183430146  2020-05-25 17:20:15   en   \n",
       "\n",
       "                                                  text  \n",
       "1                                      Bridgetowne yow  \n",
       "4    One of my fav🤧♥️\\n#백현 #BAEKHYUN #엑소 #EXO #wear...  \n",
       "8                              @killakushla Loveyou!!!  \n",
       "13          byeee imma listen to the b-tracks #Delight  \n",
       "14   @gmawowowin 0⃣9⃣3⃣0⃣  3⃣1⃣8⃣  8⃣6⃣8⃣1⃣\\nMARIPO...  \n",
       "..                                                 ...  \n",
       "296  Oh, right that’s why I have 43 pending app upd...  \n",
       "297  #Tutoktowinsawowowin, shopee waiting po,092023...  \n",
       "307           Aww🥺THANK U!HAHA https://t.co/c4bw1g75ty  \n",
       "308                 You too💙💙💙 https://t.co/Ad0PvjXYjJ  \n",
       "311     OMG❤️ Park Shin Hyee❤️ https://t.co/QjMsXRRRDw  \n",
       "\n",
       "[100 rows x 5 columns]"
      ]
     },
     "execution_count": 8,
     "metadata": {},
     "output_type": "execute_result"
    }
   ],
   "source": [
    "data.head(100)"
   ]
  },
  {
   "cell_type": "code",
   "execution_count": 34,
   "id": "eaffa50b",
   "metadata": {},
   "outputs": [
    {
     "data": {
      "text/plain": [
       "pandas.core.frame.DataFrame"
      ]
     },
     "execution_count": 34,
     "metadata": {},
     "output_type": "execute_result"
    }
   ],
   "source": []
  },
  {
   "cell_type": "code",
   "execution_count": null,
   "id": "b94e4f68",
   "metadata": {},
   "outputs": [],
   "source": []
  }
 ],
 "metadata": {
  "kernelspec": {
   "display_name": "Python 3 (ipykernel)",
   "language": "python",
   "name": "python3"
  },
  "language_info": {
   "codemirror_mode": {
    "name": "ipython",
    "version": 3
   },
   "file_extension": ".py",
   "mimetype": "text/x-python",
   "name": "python",
   "nbconvert_exporter": "python",
   "pygments_lexer": "ipython3",
   "version": "3.9.7"
  }
 },
 "nbformat": 4,
 "nbformat_minor": 5
}
